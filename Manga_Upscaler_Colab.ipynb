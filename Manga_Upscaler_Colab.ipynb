{
 "cells": [
  {
   "cell_type": "markdown",
   "metadata": {},
   "source": [
    "# 🚀 Manga Upscaler Colab\n",
    "\n",
    "Welcome! This notebook allows you to upscale your manga and anime images using state-of-the-art AI models. Follow the steps below to set up the environment, download models, and process your images."
   ]
  },
  {
   "cell_type": "markdown",
   "metadata": {},
   "source": [
    "## 1. Setup Environment\n",
    "\n",
    "This cell clones the official Manga Upscaler repository from GitHub and installs all the necessary dependencies. It also checks for GPU availability, which is highly recommended for faster processing."
   ]
  },
  {
   "cell_type": "code",
   "execution_count": null,
   "metadata": {},
   "outputs": [],
   "source": [
    "import os\n",
    "import torch\n",
    "\n",
    "# Check for GPU\n",
    "if not torch.cuda.is_available():\n",
    "    print(\"⚠️ This session doesn't have a GPU.\")\n",
    "    print(\"For faster processing, go to 'Runtime' -> 'Change runtime type' and select 'T4 GPU' as the Hardware accelerator.\")\n",
    "else:\n",
    "    print(\"✅ GPU is available!\")\n",
    "\n",
    "# Clone the repository\n",
    "if not os.path.exists('manga_upscaler'):\n",
    "    print(\"\\nCloning the Manga Upscaler repository...\")\n",
    "    !git clone https://github.com/Yui007/manga_upscaler.git\n",
    "else:\n",
    "    print(\"\\nRepository already cloned.\")\n",
    "\n",
    "%cd manga_upscaler\n",
    "\n",
    "# Install dependencies\n",
    "print(\"\\nInstalling dependencies...\")\n",
    "!pip install -r requirements.txt --quiet\n",
    "print(\"\\n✅ Setup complete!\")"
   ]
  },
  {
   "cell_type": "markdown",
   "metadata": {},
   "source": [
    "## 2. Download Models\n",
    "\n",
    "In the cell below, set the variables to `True` for the model packs you want to download. You can download multiple packs at once."
   ]
  },
  {
   "cell_type": "code",
   "execution_count": null,
   "metadata": {},
   "outputs": [],
   "source": [
    "# --- Configure Your Model Downloads ---\n",
    "download_best_models = True\n",
    "download_bw_models = False\n",
    "download_color_models = False\n",
    "# -------------------------------------\n",
    "\n",
    "if download_best_models:\n",
    "    print(\"Downloading 'Best of Both' models...\")\n",
    "    !python manga_upscale.py download best\n",
    "\n",
    "if download_bw_models:\n",
    "    print(\"\\nDownloading B&W models...\")\n",
    "    !python manga_upscale.py download bw\n",
    "\n",
    "if download_color_models:\n",
    "    print(\"\\nDownloading Color models...\")\n",
    "    !python manga_upscale.py download color\n",
    "\n",
    "print(\"\\n✅ Model download process finished.\")"
   ]
  },
  {
   "cell_type": "markdown",
   "metadata": {},
   "source": [
    "## 3. Upload and Extract Images\n",
    "\n",
    "Before upscaling, you need to upload your images. You can upload individual image files or `.zip`/`.cbz` archives.\n",
    "\n",
    "1.  Navigate to the `manga_upscaler/backend/` directory in the file browser on the left.\n",
    "2.  Create two folders if they don't exist: `bw` for black & white images and `color` for color images.\n",
    "3.  Upload your image files or archives into the appropriate `bw` or `color` folder.\n",
    "\n",
    "Once your files are uploaded, run the cell below to automatically extract any archives."
   ]
  },
  {
   "cell_type": "code",
   "execution_count": null,
   "metadata": {},
   "outputs": [],
   "source": [
    "import os\n",
    "\n",
    "bw_path = 'backend/bw'\n",
    "color_path = 'backend/color'\n",
    "\n",
    "os.makedirs(bw_path, exist_ok=True)\n",
    "os.makedirs(color_path, exist_ok=True)\n",
    "\n",
    "print(\"Extracting archives in 'backend/bw'...\")\n",
    "!python manga_upscale.py extract --input backend/bw --overwrite\n",
    "\n",
    "print(\"\\nExtracting archives in 'backend/color'...\")\n",
    "!python manga_upscale.py extract --input backend/color --overwrite\n",
    "\n",
    "print(\"\\n✅ Extraction complete.\")"
   ]
  },
  {
   "cell_type": "markdown",
   "metadata": {},
   "source": [
    "## 4. Run the Upscaler\n",
    "\n",
    "This is the final step! In the cell below, specify the names of the models you want to use. You can see the available model names in the `backend/models` folder.\n",
    "\n",
    "The upscaled images will be saved in the `manga_upscaler/backend/results` directory."
   ]
  },
  {
   "cell_type": "code",
   "execution_count": null,
   "metadata": {},
   "outputs": [],
   "source": [
    "# --- Configure Your Models ---\n",
    "bw_model = \"4x-UltraSharp.pth\"\n",
    "color_model = \"4x_IllustrationJaNai_V2standard_DAT2_27k.safetensors\"\n",
    "# -----------------------------\n",
    "\n",
    "print(f\"Using B&W Model: {bw_model}\")\n",
    "print(f\"Using Color Model: {color_model}\")\n",
    "\n",
    "!python manga_upscale.py upscale \\\n",
    "    --bw backend/bw \\\n",
    "    --color backend/color \\\n",
    "    --output backend/results \\\n",
    "    --model-bw \"{bw_model}\" \\\n",
    "    --model-color \"{color_model}\""
   ]
  },
  {
   "cell_type": "markdown",
   "metadata": {},
   "source": [
    "## 5. View and Download Results\n",
    "\n",
    "Congratulations! Your images have been upscaled. Run the cell below to display a few of the results."
   ]
  },
  {
   "cell_type": "code",
   "execution_count": null,
   "metadata": {},
   "outputs": [],
   "source": [
    "import os\n",
    "from IPython.display import Image, display\n",
    "\n",
    "results_dir = 'backend/results'\n",
    "result_files = []\n",
    "if os.path.exists(results_dir):\n",
    "    result_files = [os.path.join(dp, f) for dp, dn, filenames in os.walk(results_dir) for f in filenames if os.path.splitext(f)[1].lower() in ['.png', '.jpg', '.jpeg']]\n",
    "\n",
    "if not result_files:\n",
    "    print(\"No result images found. Did the upscaling process complete successfully?\")\n",
    "else:\n",
    "    print(f\"Displaying up to 5 result images:\")\n",
    "    for img_path in result_files[:5]:\n",
    "        print(f\"\\n{img_path}\")\n",
    "        display(Image(img_path))\n"
   ]
  },
  {
   "cell_type": "markdown",
   "metadata": {},
   "source": [
    "## 6. Package and Download Results\n",
    "\n",
    "Run this final cell to zip up all the images in the `results` folder. This makes it much easier to download everything in a single file. After the cell finishes, you will see a `results.zip` file appear in the main `manga_upscaler` directory."
   ]
  },
  {
   "cell_type": "code",
   "execution_count": null,
   "metadata": {},
   "outputs": [],
   "source": [
    "import shutil\n",
    "import os\n",
    "\n",
    "results_folder = 'backend/results'\n",
    "output_zip_path = 'results'\n",
    "\n",
    "if os.path.exists(results_folder) and os.listdir(results_folder):\n",
    "    print(f\"Zipping contents of {results_folder}...\")\n",
    "    shutil.make_archive(output_zip_path, 'zip', results_folder)\n",
    "    print(f\"\\n✅ Successfully created {output_zip_path}.zip\")\n",
    "    print(\"You can now download it from the file browser on the left.\")\n",
    "else:\n",
    "    print(f\"The results folder '{results_folder}' is empty or does not exist. Nothing to zip.\")"
   ]
  }
 ],
 "metadata": {
  "kernelspec": {
   "display_name": "Python 3",
   "name": "python3"
  },
  "language_info": {
   "name": "python"
  }
 },
 "nbformat": 4,
 "nbformat_minor": 4
}